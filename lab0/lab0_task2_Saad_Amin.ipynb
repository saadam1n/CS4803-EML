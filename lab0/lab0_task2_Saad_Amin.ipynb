{
  "nbformat": 4,
  "nbformat_minor": 0,
  "metadata": {
    "colab": {
      "provenance": [],
      "gpuType": "A100",
      "include_colab_link": true
    },
    "kernelspec": {
      "name": "python3",
      "display_name": "Python 3"
    },
    "language_info": {
      "name": "python"
    },
    "accelerator": "GPU"
  },
  "cells": [
    {
      "cell_type": "markdown",
      "metadata": {
        "id": "view-in-github",
        "colab_type": "text"
      },
      "source": [
        "<a href=\"https://colab.research.google.com/github/saadam1n/CS4803-EML/blob/main/lab0/lab0_task2_Saad_Amin.ipynb\" target=\"_parent\"><img src=\"https://colab.research.google.com/assets/colab-badge.svg\" alt=\"Open In Colab\"/></a>"
      ]
    },
    {
      "cell_type": "markdown",
      "source": [
        "# Pleas read:\n",
        "\n",
        "before your start running this jupyter notebook, please click Edit > Notebook Settings and choose any of the available GPUs."
      ],
      "metadata": {
        "id": "P-UzeCP8doGL"
      }
    },
    {
      "cell_type": "markdown",
      "source": [
        "## 0. Import Python Packages"
      ],
      "metadata": {
        "id": "pPj69Ai0VJpu"
      }
    },
    {
      "cell_type": "code",
      "execution_count": 1,
      "metadata": {
        "id": "SEsUoci9Uv5x"
      },
      "outputs": [],
      "source": [
        "import torch\n",
        "import torch.nn as nn\n",
        "import torch.nn.functional as F\n",
        "\n",
        "## TODO: you may import more packages below:\n",
        "import torch.optim as optim\n",
        "import torchvision\n",
        "from torchvision import datasets, transforms\n",
        "from torch.utils.data import DataLoader\n",
        "\n",
        "import tqdm\n",
        "\n",
        "import matplotlib.pyplot as plt\n",
        "\n",
        "from torch.profiler import profile, ProfilerActivity, record_function\n",
        "import torch.cuda.profiler as profiler"
      ]
    },
    {
      "cell_type": "markdown",
      "source": [
        "## 1. Define your first network"
      ],
      "metadata": {
        "id": "jTjEJu-1VHvf"
      }
    },
    {
      "cell_type": "code",
      "source": [
        "# ResNet Block\n",
        "class BasicBlock(nn.Module):\n",
        "    def __init__(self, in_planes, planes, stride=1):\n",
        "        super(BasicBlock, self).__init__()\n",
        "        self.conv1 = nn.Conv2d(in_planes, planes, kernel_size=3, stride=stride, padding=1, bias=False)\n",
        "        self.bn1 = nn.BatchNorm2d(planes)\n",
        "        self.conv2 = nn.Conv2d(planes, planes, kernel_size=3, stride=1, padding=1, bias=False)\n",
        "        self.bn2 = nn.BatchNorm2d(planes)\n",
        "\n",
        "        self.shortcut = nn.Sequential()\n",
        "        if stride != 1 or in_planes != planes:\n",
        "            self.shortcut = nn.Sequential(\n",
        "                nn.Conv2d(in_planes, planes, kernel_size=1, stride=stride, bias=False),\n",
        "                nn.BatchNorm2d(planes)\n",
        "            )\n",
        "\n",
        "    def forward(self, x):\n",
        "        out = F.silu(self.bn1(self.conv1(x)))\n",
        "        out = self.bn2(self.conv2(out))\n",
        "        out = out + self.shortcut(x)\n",
        "        out = F.silu(out)\n",
        "        return out\n",
        "\n",
        "# there is a paper out there called poolformer\n",
        "class PoolFormerBlock(nn.Module):\n",
        "    def __init__(self, in_planes, planes, stride=1):\n",
        "        super(PoolFormerBlock, self).__init__()\n",
        "\n",
        "        self.pooler = nn.Sequential(\n",
        "            nn.BatchNorm2d(in_planes),\n",
        "            nn.MaxPool2d(kernel_size=3, stride=stride, padding=1)\n",
        "        )\n",
        "\n",
        "        self.ffn = nn.Sequential(\n",
        "            nn.BatchNorm2d(in_planes),\n",
        "            nn.Conv2d(in_planes, planes * 2, kernel_size=1, stride=1, bias=False),\n",
        "            nn.SiLU(),\n",
        "            nn.Conv2d(planes * 2, planes, kernel_size=1, stride=1, bias=False)\n",
        "        )\n",
        "\n",
        "        self.shortcut = nn.Sequential()\n",
        "        if stride != 1 or in_planes != planes:\n",
        "            self.shortcut = nn.Sequential(\n",
        "                nn.BatchNorm2d(in_planes),\n",
        "                nn.Conv2d(in_planes, planes, kernel_size=1, stride=1, bias=False),\n",
        "            )\n",
        "\n",
        "    def forward(self, x):\n",
        "        out = self.pooler(x) + x\n",
        "        out = self.ffn(out) + self.shortcut(out)\n",
        "\n",
        "        return out\n",
        "\n",
        "\n",
        "# ResNet Model\n",
        "class ResNet(nn.Module):\n",
        "    def __init__(self, block, num_blocks, num_classes=10):\n",
        "        super(ResNet, self).__init__()\n",
        "        self.in_planes = 64\n",
        "\n",
        "        # we utilize lazy in places to make it compatible with both CIFAR and MNIST\n",
        "\n",
        "        self.conv1 = nn.LazyConv2d(64, kernel_size=3, stride=1, padding=1, bias=False)\n",
        "        self.bn1 = nn.BatchNorm2d(64)\n",
        "        self.layer1 = self._make_layer(block, 64, num_blocks[0], stride=1)\n",
        "        self.layer2 = self._make_layer(block, 128, num_blocks[1], stride=2)\n",
        "        self.layer3 = self._make_layer(block, 256, num_blocks[2], stride=2)\n",
        "        self.layer4 = self._make_layer(block, 512, num_blocks[3], stride=2)\n",
        "        self.linear = nn.LazyLinear(num_classes)\n",
        "\n",
        "    def _make_layer(self, block, planes, num_blocks, stride):\n",
        "        strides = [stride] + [1] * (num_blocks - 1)\n",
        "        layers = []\n",
        "        for stride in strides:\n",
        "            layers.append(block(self.in_planes, planes, stride))\n",
        "            self.in_planes = planes\n",
        "        return nn.Sequential(*layers)\n",
        "\n",
        "    def forward(self, x):\n",
        "        out = F.relu(self.bn1(self.conv1(x)))\n",
        "        out = self.layer1(out)\n",
        "        out = self.layer2(out)\n",
        "        out = self.layer3(out)\n",
        "        out = self.layer4(out)\n",
        "        out = F.avg_pool2d(out, 4)\n",
        "        out = out.view(out.size(0), -1)\n",
        "        out = self.linear(out)\n",
        "        return out\n",
        "\n",
        "def ResNet18():\n",
        "    return ResNet(BasicBlock, [2, 2, 2, 2])"
      ],
      "metadata": {
        "id": "doptrjrMVGDl"
      },
      "execution_count": 2,
      "outputs": []
    },
    {
      "cell_type": "markdown",
      "source": [
        "## 2. Implement training loop and test function"
      ],
      "metadata": {
        "id": "jDG9sEPOXjYa"
      }
    },
    {
      "cell_type": "code",
      "source": [
        "# I put in quite a bit of extra stuff to profile/optimizing training\n",
        "# since I have an interview coming where I need to do that\n",
        "\n",
        "def train(model, device, train_loader, optimizer, scheduler, epoch):\n",
        "    model.to(device)\n",
        "    model.train()\n",
        "    model.compile()\n",
        "\n",
        "    running_loss = 0.0\n",
        "    correct = 0\n",
        "    total = 0\n",
        "    loss_curve = []\n",
        "\n",
        "    scaler = torch.amp.GradScaler(\"cuda\")\n",
        "\n",
        "    print_acc = False\n",
        "\n",
        "    for epoch in tqdm.tqdm(range(epoch)):\n",
        "      for batch_idx, (data, target) in enumerate(train_loader):\n",
        "          data, target = data.to(device), target.to(device)\n",
        "\n",
        "          optimizer.zero_grad()\n",
        "\n",
        "          with torch.autocast(device_type=\"cuda\", dtype=torch.float16):\n",
        "              output = model(data)\n",
        "              loss = F.cross_entropy(output, target)\n",
        "\n",
        "          scaler.scale(loss).backward()\n",
        "\n",
        "          scaler.step(optimizer)\n",
        "          scaler.update()\n",
        "\n",
        "          running_loss += loss.item()\n",
        "\n",
        "          if batch_idx % 100 == 0:\n",
        "              loss_curve.append(loss.item())\n",
        "\n",
        "              if print_acc:\n",
        "                _, predicted = output.max(1)\n",
        "                total += target.size(0)\n",
        "                correct += predicted.eq(target).sum().item()\n",
        "\n",
        "                print(f'Batch {batch_idx}, Loss: {loss.item():.4f}, Acc: {100.*correct/total:.2f}%')\n",
        "\n",
        "      scheduler.step()\n",
        "\n",
        "\n",
        "\n",
        "    return loss_curve\n",
        "\n",
        "def test(model, device, test_loader):\n",
        "    # TODO: finish this function, you are required to:\n",
        "    # 1. print the loss and classification accuracy on the test set\n",
        "    model.eval()\n",
        "\n",
        "    running_loss = 0.0\n",
        "\n",
        "    correct = 0\n",
        "    total = 0\n",
        "\n",
        "    for data, target in test_loader:\n",
        "        data, target = data.to(device), target.to(device)\n",
        "\n",
        "        with torch.autocast(device_type=\"cuda\", dtype=torch.float16):\n",
        "          output = model(data)\n",
        "          loss = F.cross_entropy(output, target)\n",
        "\n",
        "          _, predicted = output.max(1)\n",
        "          total += target.size(0)\n",
        "          correct += predicted.eq(target).sum().item()\n",
        "\n",
        "        running_loss += loss.item()\n",
        "\n",
        "    print(f'Loss: {running_loss / len(test_loader):.4f}, Acc: {100.*correct/total:.2f}%')\n"
      ],
      "metadata": {
        "id": "Qk-kH1KwXfG3"
      },
      "execution_count": 3,
      "outputs": []
    },
    {
      "cell_type": "markdown",
      "source": [
        "## 3. Dataset loading\n"
      ],
      "metadata": {
        "id": "j_rWlLGFXyIE"
      }
    },
    {
      "cell_type": "code",
      "source": [
        "# TODO: finish the code here, you are required to:\n",
        "# 1. load the training and testing split of the MNIST dataset\n",
        "\n",
        "load_mnist = False\n",
        "\n",
        "if load_mnist:\n",
        "    transform = transforms.Compose([\n",
        "        transforms.ToTensor(),\n",
        "        transforms.Normalize((0.1307,), (0.3081,))\n",
        "    ])\n",
        "\n",
        "    train_dataset = datasets.MNIST(\n",
        "        root=\"./data\",\n",
        "        train=True,\n",
        "        download=True,\n",
        "        transform=transform\n",
        "    )\n",
        "\n",
        "    test_dataset = datasets.MNIST(\n",
        "        root=\"./data\",\n",
        "        train=False,\n",
        "        download=True,\n",
        "        transform=transform\n",
        "    )\n",
        "\n",
        "    train_loader = DataLoader(train_dataset, batch_size=64, shuffle=True)\n",
        "    test_loader = DataLoader(test_dataset, batch_size=64, shuffle=False)\n",
        "else:\n",
        "    # Data transforms\n",
        "    transform_train = transforms.Compose([\n",
        "        transforms.RandomCrop(32, padding=4),\n",
        "        transforms.RandomHorizontalFlip(),\n",
        "        transforms.ToTensor(),\n",
        "        transforms.Normalize((0.4914, 0.4822, 0.4465), (0.2023, 0.1994, 0.2010))\n",
        "    ])\n",
        "\n",
        "    transform_test = transforms.Compose([\n",
        "        transforms.ToTensor(),\n",
        "        transforms.Normalize((0.4914, 0.4822, 0.4465), (0.2023, 0.1994, 0.2010))\n",
        "    ])\n",
        "\n",
        "    # Dataset and DataLoader\n",
        "    train_dataset = torchvision.datasets.CIFAR10(root='./data', train=True,\n",
        "                                                 download=True, transform=transform_train)\n",
        "    test_dataset = torchvision.datasets.CIFAR10(root='./data', train=False,\n",
        "                                                download=True, transform=transform_test)\n",
        "\n",
        "    train_loader = DataLoader(train_dataset, batch_size=384, shuffle=True, pin_memory=True)\n",
        "    test_loader = DataLoader(test_dataset, batch_size=100, shuffle=False, pin_memory=True)\n",
        "\n",
        "\n"
      ],
      "metadata": {
        "id": "0Smfbu4RXuUd"
      },
      "execution_count": 4,
      "outputs": []
    },
    {
      "cell_type": "markdown",
      "source": [
        "## 4. Put Everything Together"
      ],
      "metadata": {
        "id": "Wzqkx8TTYDxQ"
      }
    },
    {
      "cell_type": "markdown",
      "source": [
        "MNIST: Loss: 0.0178, Acc: 99.54%\n",
        "\n",
        "CIFAR: Loss: 0.4036, Acc: 87.25%"
      ],
      "metadata": {
        "id": "1xWwmJXh-G5b"
      }
    },
    {
      "cell_type": "code",
      "source": [
        "# TODO: finish the code here, you are required to:\n",
        "# 1. launch model training: recommended hyperparameter: batch size = 64, learning rate = 1.0, adam optimizer\n",
        "# 2. visualize the training loss curve using matplotlib or any other libraries\n",
        "\n",
        "model = ResNet18()\n",
        "device = torch.device(\"cuda\")\n",
        "optimizer = optim.Adam(model.parameters(), lr = 0.001)\n",
        "scheduler = optim.lr_scheduler.StepLR(optimizer, step_size=1, gamma=0.8)\n",
        "\n",
        "losses = train(model, device, train_loader, optimizer, scheduler, 16)\n",
        "\n",
        "steps = [i * 100 for i in range(len(losses))]\n",
        "\n",
        "plt.figure(figsize=(8, 5))\n",
        "plt.plot(steps, losses, marker='o', label=\"Training Loss\")\n",
        "\n",
        "plt.xlabel(\"Training Steps\")\n",
        "plt.ylabel(\"Loss\")\n",
        "plt.title(\"Training Loss Curve\")\n",
        "plt.legend()\n",
        "plt.grid(True)\n",
        "plt.show()\n",
        "\n",
        "# run test\n",
        "test(model, device, test_loader)"
      ],
      "metadata": {
        "id": "WHr46bWLYHy4",
        "colab": {
          "base_uri": "https://localhost:8080/",
          "height": 523
        },
        "outputId": "33e0f424-62e0-477e-b154-0e7fcfb9bbc6"
      },
      "execution_count": 5,
      "outputs": [
        {
          "output_type": "stream",
          "name": "stderr",
          "text": [
            "100%|██████████| 16/16 [06:44<00:00, 25.26s/it]\n"
          ]
        },
        {
          "output_type": "display_data",
          "data": {
            "text/plain": [
              "<Figure size 800x500 with 1 Axes>"
            ],
            "image/png": "[encoded data removed]"
          },
          "metadata": {}
        },
        {
          "output_type": "stream",
          "name": "stdout",
          "text": [
            "Loss: 0.4036, Acc: 87.25%\n"
          ]
        }
      ]
    }
  ]
}