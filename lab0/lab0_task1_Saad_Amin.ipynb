{
  "nbformat": 4,
  "nbformat_minor": 0,
  "metadata": {
    "colab": {
      "provenance": [],
      "gpuType": "T4",
      "include_colab_link": true
    },
    "kernelspec": {
      "name": "python3",
      "display_name": "Python 3"
    },
    "language_info": {
      "name": "python"
    },
    "accelerator": "GPU"
  },
  "cells": [
    {
      "cell_type": "markdown",
      "metadata": {
        "id": "view-in-github",
        "colab_type": "text"
      },
      "source": [
        "<a href=\"https://colab.research.google.com/github/saadam1n/CS4803-EML/blob/main/lab0/lab0_task1_Saad_Amin.ipynb\" target=\"_parent\"><img src=\"https://colab.research.google.com/assets/colab-badge.svg\" alt=\"Open In Colab\"/></a>"
      ]
    },
    {
      "cell_type": "markdown",
      "source": [
        "# Pleas read:\n",
        "\n",
        "before your start running this jupyter notebook, please click Edit > Notebook Settings and choose any of the available GPUs."
      ],
      "metadata": {
        "id": "P-UzeCP8doGL"
      }
    },
    {
      "cell_type": "markdown",
      "source": [
        "## 0. Import Python Packages"
      ],
      "metadata": {
        "id": "pPj69Ai0VJpu"
      }
    },
    {
      "cell_type": "code",
      "execution_count": 16,
      "metadata": {
        "id": "SEsUoci9Uv5x"
      },
      "outputs": [],
      "source": [
        "import torch\n",
        "import torch.nn as nn\n",
        "import torch.nn.functional as F\n",
        "\n",
        "## TODO: you may import more packages below:\n",
        "import torch.optim as optim\n",
        "from torchvision import datasets, transforms\n",
        "from torch.utils.data import DataLoader\n",
        "\n",
        "import tqdm\n",
        "\n",
        "import matplotlib.pyplot as plt"
      ]
    },
    {
      "cell_type": "markdown",
      "source": [
        "## 1. Define your first network"
      ],
      "metadata": {
        "id": "jTjEJu-1VHvf"
      }
    },
    {
      "cell_type": "code",
      "source": [
        "class Net(nn.Module):\n",
        "    def __init__(self):\n",
        "        super(Net, self).__init__()\n",
        "\n",
        "        self.conv1 = nn.Conv2d(1, 32, 3, 1)\n",
        "        self.conv2 = nn.Conv2d(32, 64, 3, 1)\n",
        "\n",
        "        self.dropout1 = nn.Dropout(0.25)\n",
        "        self.dropout2 = nn.Dropout(0.25)\n",
        "\n",
        "        self.fc1 = nn.Linear(9216, 128)\n",
        "        self.fc2 = nn.Linear(128, 10)\n",
        "\n",
        "\n",
        "    def forward(self, x):\n",
        "        x = self.conv1(x)\n",
        "        x = F.relu(x)\n",
        "        x = self.conv2(x)\n",
        "        x = F.relu(x)\n",
        "        x = F.max_pool2d(x, 2)\n",
        "        x = self.dropout1(x)\n",
        "        x = torch.flatten(x, 1)\n",
        "        x = self.fc1(x)\n",
        "        x = F.relu(x)\n",
        "        x = self.dropout2(x)\n",
        "        x = self.fc2(x)\n",
        "        output = F.log_softmax(x, dim=1)\n",
        "\n",
        "        return output"
      ],
      "metadata": {
        "id": "doptrjrMVGDl"
      },
      "execution_count": 2,
      "outputs": []
    },
    {
      "cell_type": "markdown",
      "source": [
        "## 2. Implement training loop and test function"
      ],
      "metadata": {
        "id": "jDG9sEPOXjYa"
      }
    },
    {
      "cell_type": "code",
      "source": [
        "def train(model, device, train_loader, optimizer, epoch):\n",
        "    # TODO: finish this function, you are required to:\n",
        "    # 1. implement model forward pass, backward pass and parameter update;\n",
        "    # 2. return the training loss every 100 training steps;\n",
        "\n",
        "    model.to(device)\n",
        "    model.train()\n",
        "\n",
        "    loss_curve = []\n",
        "    traing_step = 0\n",
        "\n",
        "    for epoch_idx in tqdm.tqdm(range(epoch)):\n",
        "        for input, labels in train_loader:\n",
        "            input = input.to(device)\n",
        "            labels = labels.to(device)\n",
        "\n",
        "            optimizer.zero_grad()\n",
        "\n",
        "            logits = model(input)\n",
        "\n",
        "            loss = F.nll_loss(logits, labels)\n",
        "            loss.backward()\n",
        "\n",
        "            optimizer.step()\n",
        "\n",
        "            if traing_step % 100 == 0:\n",
        "              loss_curve.append(loss.item())\n",
        "\n",
        "              print(f\"{traing_step}:\\t{loss.item()}\")\n",
        "\n",
        "            traing_step += 1\n",
        "\n",
        "\n",
        "    return model, loss_curve\n",
        "\n",
        "def test(model, device, test_loader):\n",
        "    # TODO: finish this function, you are required to:\n",
        "    # 1. print the loss and classification accuracy on the test set\n",
        "    pass"
      ],
      "metadata": {
        "id": "Qk-kH1KwXfG3"
      },
      "execution_count": 14,
      "outputs": []
    },
    {
      "cell_type": "markdown",
      "source": [
        "## 3. Dataset loading\n"
      ],
      "metadata": {
        "id": "j_rWlLGFXyIE"
      }
    },
    {
      "cell_type": "code",
      "source": [
        "# TODO: finish the code here, you are required to:\n",
        "# 1. load the training and testing split of the MNIST dataset\n",
        "\n",
        "transform = transforms.Compose([\n",
        "    transforms.ToTensor(),\n",
        "    transforms.Normalize((0.1307,), (0.3081,))\n",
        "])\n",
        "\n",
        "train_dataset = datasets.MNIST(\n",
        "    root=\"./data\",\n",
        "    train=True,\n",
        "    download=True,\n",
        "    transform=transform\n",
        ")\n",
        "\n",
        "test_dataset = datasets.MNIST(\n",
        "    root=\"./data\",\n",
        "    train=False,\n",
        "    download=True,\n",
        "    transform=transform\n",
        ")\n",
        "\n",
        "train_loader = DataLoader(train_dataset, batch_size=64, shuffle=True)\n",
        "test_loader = DataLoader(test_dataset, batch_size=64, shuffle=False)"
      ],
      "metadata": {
        "id": "0Smfbu4RXuUd",
        "outputId": "cfb828db-2b80-4ed0-af9b-1630f5de27df",
        "colab": {
          "base_uri": "https://localhost:8080/"
        }
      },
      "execution_count": 4,
      "outputs": [
        {
          "output_type": "stream",
          "name": "stderr",
          "text": [
            "100%|██████████| 9.91M/9.91M [00:02<00:00, 4.60MB/s]\n",
            "100%|██████████| 28.9k/28.9k [00:00<00:00, 129kB/s]\n",
            "100%|██████████| 1.65M/1.65M [00:01<00:00, 1.23MB/s]\n",
            "100%|██████████| 4.54k/4.54k [00:00<00:00, 8.47MB/s]\n"
          ]
        }
      ]
    },
    {
      "cell_type": "markdown",
      "source": [
        "## 4. Put Everything Together"
      ],
      "metadata": {
        "id": "Wzqkx8TTYDxQ"
      }
    },
    {
      "cell_type": "code",
      "source": [
        "# TODO: finish the code here, you are required to:\n",
        "# 1. launch model training: recommended hyperparameter: batch size = 64, learning rate = 1.0, adam optimizer\n",
        "# 2. visualize the training loss curve using matplotlib or any other libraries\n",
        "model = Net()\n",
        "\n",
        "optimizer = optim.Adam(model.parameters(), lr = 0.001)\n",
        "model, losses = train(model, torch.device(\"cuda\"), train_loader, optimizer, 1)\n",
        "\n",
        "steps = [i * 100 for i in range(len(losses))]\n",
        "\n",
        "plt.figure(figsize=(8, 5))\n",
        "plt.plot(steps, losses, marker='o', label=\"Training Loss\")\n",
        "\n",
        "plt.xlabel(\"Training Steps\")\n",
        "plt.ylabel(\"Loss\")\n",
        "plt.title(\"Training Loss Curve\")\n",
        "plt.legend()\n",
        "plt.grid(True)\n",
        "plt.show()"
      ],
      "metadata": {
        "id": "WHr46bWLYHy4",
        "outputId": "66e81db2-bd77-425b-ad68-4fbc25eee420",
        "colab": {
          "base_uri": "https://localhost:8080/",
          "height": 684
        }
      },
      "execution_count": 17,
      "outputs": [
        {
          "output_type": "stream",
          "name": "stderr",
          "text": [
            "\r  0%|          | 0/1 [00:00<?, ?it/s]"
          ]
        },
        {
          "output_type": "stream",
          "name": "stdout",
          "text": [
            "0:\t2.304810047149658\n",
            "100:\t0.22326424717903137\n",
            "200:\t0.1526433676481247\n",
            "300:\t0.12828922271728516\n",
            "400:\t0.17233923077583313\n",
            "500:\t0.04979928582906723\n",
            "600:\t0.06607051193714142\n",
            "700:\t0.05268791690468788\n",
            "800:\t0.043950289487838745\n",
            "900:\t0.0752221941947937\n"
          ]
        },
        {
          "output_type": "stream",
          "name": "stderr",
          "text": [
            "100%|██████████| 1/1 [00:14<00:00, 14.77s/it]\n"
          ]
        },
        {
          "output_type": "display_data",
          "data": {
            "text/plain": [
              "<Figure size 800x500 with 1 Axes>"
            ],
            "image/png": "[encoded data removed]"
          },
          "metadata": {}
        }
      ]
    }
  ]
}