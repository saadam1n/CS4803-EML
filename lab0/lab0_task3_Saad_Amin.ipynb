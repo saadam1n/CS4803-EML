{
  "nbformat": 4,
  "nbformat_minor": 0,
  "metadata": {
    "colab": {
      "provenance": [],
      "gpuType": "A100",
      "include_colab_link": true
    },
    "kernelspec": {
      "name": "python3",
      "display_name": "Python 3"
    },
    "language_info": {
      "name": "python"
    },
    "accelerator": "GPU"
  },
  "cells": [
    {
      "cell_type": "markdown",
      "metadata": {
        "id": "view-in-github",
        "colab_type": "text"
      },
      "source": [
        "<a href=\"https://colab.research.google.com/github/saadam1n/CS4803-EML/blob/main/lab0/lab0_task3_Saad_Amin.ipynb\" target=\"_parent\"><img src=\"https://colab.research.google.com/assets/colab-badge.svg\" alt=\"Open In Colab\"/></a>"
      ]
    },
    {
      "cell_type": "markdown",
      "source": [
        "# Pleas read:\n",
        "\n",
        "before your start running this jupyter notebook, please click Edit > Notebook Settings and choose any of the available GPUs."
      ],
      "metadata": {
        "id": "P-UzeCP8doGL"
      }
    },
    {
      "cell_type": "markdown",
      "source": [
        "## 0. Import Python Packages"
      ],
      "metadata": {
        "id": "pPj69Ai0VJpu"
      }
    },
    {
      "cell_type": "markdown",
      "source": [
        "Install thop if not install already:"
      ],
      "metadata": {
        "id": "SjnPjKcSCLXr"
      }
    },
    {
      "cell_type": "code",
      "source": [
        "%pip install thop"
      ],
      "metadata": {
        "colab": {
          "base_uri": "https://localhost:8080/"
        },
        "id": "U6vMy9FqCCuc",
        "outputId": "c0f658d7-d71e-4aa8-9c5e-48fa189fbfc3"
      },
      "execution_count": 1,
      "outputs": [
        {
          "output_type": "stream",
          "name": "stdout",
          "text": [
            "Requirement already satisfied: thop in /usr/local/lib/python3.12/dist-packages (0.1.1.post2209072238)\n",
            "Requirement already satisfied: torch in /usr/local/lib/python3.12/dist-packages (from thop) (2.8.0+cu126)\n",
            "Requirement already satisfied: filelock in /usr/local/lib/python3.12/dist-packages (from torch->thop) (3.19.1)\n",
            "Requirement already satisfied: typing-extensions>=4.10.0 in /usr/local/lib/python3.12/dist-packages (from torch->thop) (4.15.0)\n",
            "Requirement already satisfied: setuptools in /usr/local/lib/python3.12/dist-packages (from torch->thop) (75.2.0)\n",
            "Requirement already satisfied: sympy>=1.13.3 in /usr/local/lib/python3.12/dist-packages (from torch->thop) (1.13.3)\n",
            "Requirement already satisfied: networkx in /usr/local/lib/python3.12/dist-packages (from torch->thop) (3.5)\n",
            "Requirement already satisfied: jinja2 in /usr/local/lib/python3.12/dist-packages (from torch->thop) (3.1.6)\n",
            "Requirement already satisfied: fsspec in /usr/local/lib/python3.12/dist-packages (from torch->thop) (2025.3.0)\n",
            "Requirement already satisfied: nvidia-cuda-nvrtc-cu12==12.6.77 in /usr/local/lib/python3.12/dist-packages (from torch->thop) (12.6.77)\n",
            "Requirement already satisfied: nvidia-cuda-runtime-cu12==12.6.77 in /usr/local/lib/python3.12/dist-packages (from torch->thop) (12.6.77)\n",
            "Requirement already satisfied: nvidia-cuda-cupti-cu12==12.6.80 in /usr/local/lib/python3.12/dist-packages (from torch->thop) (12.6.80)\n",
            "Requirement already satisfied: nvidia-cudnn-cu12==9.10.2.21 in /usr/local/lib/python3.12/dist-packages (from torch->thop) (9.10.2.21)\n",
            "Requirement already satisfied: nvidia-cublas-cu12==12.6.4.1 in /usr/local/lib/python3.12/dist-packages (from torch->thop) (12.6.4.1)\n",
            "Requirement already satisfied: nvidia-cufft-cu12==11.3.0.4 in /usr/local/lib/python3.12/dist-packages (from torch->thop) (11.3.0.4)\n",
            "Requirement already satisfied: nvidia-curand-cu12==10.3.7.77 in /usr/local/lib/python3.12/dist-packages (from torch->thop) (10.3.7.77)\n",
            "Requirement already satisfied: nvidia-cusolver-cu12==11.7.1.2 in /usr/local/lib/python3.12/dist-packages (from torch->thop) (11.7.1.2)\n",
            "Requirement already satisfied: nvidia-cusparse-cu12==12.5.4.2 in /usr/local/lib/python3.12/dist-packages (from torch->thop) (12.5.4.2)\n",
            "Requirement already satisfied: nvidia-cusparselt-cu12==0.7.1 in /usr/local/lib/python3.12/dist-packages (from torch->thop) (0.7.1)\n",
            "Requirement already satisfied: nvidia-nccl-cu12==2.27.3 in /usr/local/lib/python3.12/dist-packages (from torch->thop) (2.27.3)\n",
            "Requirement already satisfied: nvidia-nvtx-cu12==12.6.77 in /usr/local/lib/python3.12/dist-packages (from torch->thop) (12.6.77)\n",
            "Requirement already satisfied: nvidia-nvjitlink-cu12==12.6.85 in /usr/local/lib/python3.12/dist-packages (from torch->thop) (12.6.85)\n",
            "Requirement already satisfied: nvidia-cufile-cu12==1.11.1.6 in /usr/local/lib/python3.12/dist-packages (from torch->thop) (1.11.1.6)\n",
            "Requirement already satisfied: triton==3.4.0 in /usr/local/lib/python3.12/dist-packages (from torch->thop) (3.4.0)\n",
            "Requirement already satisfied: mpmath<1.4,>=1.1.0 in /usr/local/lib/python3.12/dist-packages (from sympy>=1.13.3->torch->thop) (1.3.0)\n",
            "Requirement already satisfied: MarkupSafe>=2.0 in /usr/local/lib/python3.12/dist-packages (from jinja2->torch->thop) (3.0.2)\n"
          ]
        }
      ]
    },
    {
      "cell_type": "markdown",
      "source": [
        "Import all packages"
      ],
      "metadata": {
        "id": "6vw9Og9CCOj1"
      }
    },
    {
      "cell_type": "code",
      "execution_count": 2,
      "metadata": {
        "id": "SEsUoci9Uv5x"
      },
      "outputs": [],
      "source": [
        "import torch\n",
        "import torch.nn as nn\n",
        "import torch.nn.functional as F\n",
        "\n",
        "## TODO: you may import more packages below:\n",
        "import torch.optim as optim\n",
        "import torchvision\n",
        "from torchvision import datasets, transforms\n",
        "from torch.utils.data import DataLoader\n",
        "\n",
        "import tqdm\n",
        "\n",
        "import matplotlib.pyplot as plt\n",
        "\n",
        "from torch.profiler import profile, ProfilerActivity, record_function\n",
        "import torch.cuda.profiler as profiler\n",
        "\n",
        "from thop import profile"
      ]
    },
    {
      "cell_type": "markdown",
      "source": [
        "## 1. Define your first network"
      ],
      "metadata": {
        "id": "jTjEJu-1VHvf"
      }
    },
    {
      "cell_type": "code",
      "source": [
        "# ResNet Block\n",
        "class BasicBlock(nn.Module):\n",
        "    def __init__(self, in_planes, planes, stride=1):\n",
        "        super(BasicBlock, self).__init__()\n",
        "        self.conv1 = nn.Conv2d(in_planes, planes, kernel_size=3, stride=stride, padding=1, bias=False)\n",
        "        self.bn1 = nn.BatchNorm2d(planes)\n",
        "        self.conv2 = nn.Conv2d(planes, planes, kernel_size=3, stride=1, padding=1, bias=False)\n",
        "        self.bn2 = nn.BatchNorm2d(planes)\n",
        "\n",
        "        self.shortcut = nn.Sequential()\n",
        "        if stride != 1 or in_planes != planes:\n",
        "            self.shortcut = nn.Sequential(\n",
        "                nn.Conv2d(in_planes, planes, kernel_size=1, stride=stride, bias=False),\n",
        "                nn.BatchNorm2d(planes)\n",
        "            )\n",
        "\n",
        "    def forward(self, x):\n",
        "        out = F.silu(self.bn1(self.conv1(x)))\n",
        "        out = self.bn2(self.conv2(out))\n",
        "        out = out + self.shortcut(x)\n",
        "        out = F.silu(out)\n",
        "        return out\n",
        "\n",
        "# MobileNetV2 block\n",
        "class MobileNetV2Block(nn.Module):\n",
        "    def __init__(self, in_planes, planes, stride=1):\n",
        "        super(MobileNetV2Block, self).__init__()\n",
        "\n",
        "        expansion_ratio = 4\n",
        "        mid_planes = planes * expansion_ratio\n",
        "\n",
        "        self.net = nn.Sequential(\n",
        "            nn.Conv2d(in_planes, mid_planes, kernel_size=1, bias=False),\n",
        "            nn.GELU(),\n",
        "            nn.Conv2d(mid_planes, mid_planes, groups=mid_planes, kernel_size=3, stride=stride, padding=1, bias=False),\n",
        "            nn.GELU(),\n",
        "            nn.Conv2d(mid_planes, planes, kernel_size=1, bias=False),\n",
        "            nn.BatchNorm2d(planes)\n",
        "        )\n",
        "\n",
        "\n",
        "        self.shortcut = nn.Sequential()\n",
        "        if stride != 1 or in_planes != planes:\n",
        "            self.shortcut = nn.Sequential(\n",
        "                nn.Conv2d(in_planes, planes, kernel_size=1, stride=stride, bias=False),\n",
        "                nn.BatchNorm2d(planes)\n",
        "            )\n",
        "\n",
        "    def forward(self, x):\n",
        "        out = self.net(x) + self.shortcut(x)\n",
        "        return out\n",
        "\n",
        "# https://arxiv.org/abs/2111.11418\n",
        "class PoolFormerBlock(nn.Module):\n",
        "    def __init__(self, in_planes, planes, stride=1):\n",
        "        super(PoolFormerBlock, self).__init__()\n",
        "\n",
        "        self.pooler = nn.Sequential(\n",
        "            nn.BatchNorm2d(in_planes),\n",
        "            nn.MaxPool2d(kernel_size=3, stride=stride, padding=1)\n",
        "        )\n",
        "\n",
        "        self.ffn = nn.Sequential(\n",
        "            nn.BatchNorm2d(in_planes),\n",
        "            nn.Conv2d(in_planes, planes * 2, kernel_size=1, stride=1, bias=False),\n",
        "            nn.SiLU(),\n",
        "            nn.Conv2d(planes * 2, planes, kernel_size=1, stride=1, bias=False)\n",
        "        )\n",
        "\n",
        "        self.shortcut = nn.Sequential()\n",
        "        if stride != 1 or in_planes != planes:\n",
        "            self.shortcut = nn.Sequential(\n",
        "                nn.BatchNorm2d(in_planes),\n",
        "                nn.Conv2d(in_planes, planes, kernel_size=1, stride=1, bias=False),\n",
        "            )\n",
        "\n",
        "    def forward(self, x):\n",
        "        out = self.pooler(x) + x\n",
        "        out = self.ffn(out) + self.shortcut(out)\n",
        "\n",
        "        return out\n",
        "\n",
        "\n",
        "# ResNet Model\n",
        "class ResNet(nn.Module):\n",
        "    def __init__(self, block, num_blocks, num_classes=10):\n",
        "        super(ResNet, self).__init__()\n",
        "        self.in_planes = 64\n",
        "\n",
        "        # we utilize lazy in places to make it compatible with both CIFAR and MNIST\n",
        "\n",
        "        self.conv1 = nn.LazyConv2d(64, kernel_size=3, stride=1, padding=1, bias=False)\n",
        "        self.bn1 = nn.BatchNorm2d(64)\n",
        "        self.layer1 = self._make_layer(block, 64, num_blocks[0], stride=1)\n",
        "        self.layer2 = self._make_layer(block, 128, num_blocks[1], stride=2)\n",
        "        self.layer3 = self._make_layer(block, 256, num_blocks[2], stride=2)\n",
        "        self.layer4 = self._make_layer(block, 512, num_blocks[3], stride=2)\n",
        "        self.linear = nn.LazyLinear(num_classes)\n",
        "\n",
        "    def _make_layer(self, block, planes, num_blocks, stride):\n",
        "        strides = [stride] + [1] * (num_blocks - 1)\n",
        "        layers = []\n",
        "        for stride in strides:\n",
        "            layers.append(block(self.in_planes, planes, stride))\n",
        "            self.in_planes = planes\n",
        "        return nn.Sequential(*layers)\n",
        "\n",
        "    def forward(self, x):\n",
        "        out = F.relu(self.bn1(self.conv1(x)))\n",
        "        out = self.layer1(out)\n",
        "        out = self.layer2(out)\n",
        "        out = self.layer3(out)\n",
        "        out = self.layer4(out)\n",
        "        out = F.avg_pool2d(out, 4)\n",
        "        out = out.view(out.size(0), -1)\n",
        "        out = self.linear(out)\n",
        "        return out\n",
        "\n",
        "def ResNet18():\n",
        "    return ResNet(BasicBlock, [2, 2, 2, 2])"
      ],
      "metadata": {
        "id": "doptrjrMVGDl"
      },
      "execution_count": 3,
      "outputs": []
    },
    {
      "cell_type": "markdown",
      "source": [
        "## 2. Implement training loop and test function"
      ],
      "metadata": {
        "id": "jDG9sEPOXjYa"
      }
    },
    {
      "cell_type": "code",
      "source": [
        "# I put in quite a bit of extra stuff to profile/optimizing training\n",
        "# since I have an interview coming where I need to do that\n",
        "\n",
        "def train(model, device, train_loader, optimizer, scheduler, epoch):\n",
        "    model.train()\n",
        "\n",
        "    # Compile for training\n",
        "    model.compile(mode=\"reduce-overhead\")\n",
        "\n",
        "    running_loss = 0.0\n",
        "    correct = 0\n",
        "    total = 0\n",
        "    loss_curve = []\n",
        "\n",
        "    scaler = torch.amp.GradScaler(\"cuda\")\n",
        "\n",
        "    print_acc = False\n",
        "\n",
        "    for epoch in tqdm.tqdm(range(epoch)):\n",
        "      for batch_idx, (data, target) in enumerate(train_loader):\n",
        "          data, target = data.to(device), target.to(device)\n",
        "\n",
        "          optimizer.zero_grad()\n",
        "\n",
        "          with torch.autocast(device_type=\"cuda\", dtype=torch.float16):\n",
        "              output = model(data)\n",
        "              loss = F.cross_entropy(output, target)\n",
        "\n",
        "          scaler.scale(loss).backward()\n",
        "\n",
        "          scaler.step(optimizer)\n",
        "          scaler.update()\n",
        "\n",
        "          running_loss += loss.item()\n",
        "\n",
        "          if batch_idx % 100 == 0:\n",
        "              loss_curve.append(loss.item())\n",
        "\n",
        "              if print_acc:\n",
        "                _, predicted = output.max(1)\n",
        "                total += target.size(0)\n",
        "                correct += predicted.eq(target).sum().item()\n",
        "\n",
        "                print(f'Batch {batch_idx}, Loss: {loss.item():.4f}, Acc: {100.*correct/total:.2f}%')\n",
        "\n",
        "      scheduler.step()\n",
        "\n",
        "\n",
        "\n",
        "    return loss_curve\n",
        "\n",
        "def test(model, device, test_loader):\n",
        "    # TODO: finish this function, you are required to:\n",
        "    # 1. print the loss and classification accuracy on the test set\n",
        "    with torch.no_grad():\n",
        "      model.eval()\n",
        "\n",
        "      # This should force recompilation from training... I think\n",
        "      model.compile(mode=\"reduce-overhead\")\n",
        "\n",
        "      running_loss = 0.0\n",
        "\n",
        "      correct = 0\n",
        "      total = 0\n",
        "\n",
        "      total_latency = 0.0\n",
        "      macs = 0\n",
        "\n",
        "      for batch_idx, (data, target) in enumerate(test_loader):\n",
        "          data, target = data.to(device), target.to(device)\n",
        "\n",
        "\n",
        "\n",
        "\n",
        "          start = torch.cuda.Event(enable_timing=True)\n",
        "          end = torch.cuda.Event(enable_timing=True)\n",
        "\n",
        "          with torch.autocast(device_type=\"cuda\", dtype=torch.float16):\n",
        "            # torch.compile warmup before collecting timing data\n",
        "            if batch_idx == 0:\n",
        "              print(\"Warming up for torch.compile()...\")\n",
        "              for _ in range(3):\n",
        "                  _ = model(data)\n",
        "\n",
        "            start.record()\n",
        "            output = model(data)\n",
        "            end.record()\n",
        "\n",
        "            loss = F.cross_entropy(output, target)\n",
        "\n",
        "            if batch_idx == 0:\n",
        "              # get a batch size of 1\n",
        "              macs, params = profile(model, inputs=(data[:1], ))\n",
        "\n",
        "          _, predicted = output.max(1)\n",
        "          total += target.size(0)\n",
        "          correct += predicted.eq(target).sum().item()\n",
        "\n",
        "          running_loss += loss.item()\n",
        "\n",
        "          # Measure latency\n",
        "          torch.cuda.synchronize()\n",
        "          total_latency += start.elapsed_time(end)\n",
        "\n",
        "      print(f'Loss: {running_loss / len(test_loader):.4f}, Acc: {100.*correct/total:.2f}%, Latency: {total_latency / len(test_loader):.2f}ms, MACs: {macs / 1000000:.1f}M')\n"
      ],
      "metadata": {
        "id": "Qk-kH1KwXfG3"
      },
      "execution_count": 4,
      "outputs": []
    },
    {
      "cell_type": "markdown",
      "source": [
        "## 3. Dataset loading\n"
      ],
      "metadata": {
        "id": "j_rWlLGFXyIE"
      }
    },
    {
      "cell_type": "code",
      "source": [
        "# TODO: finish the code here, you are required to:\n",
        "# 1. load the training and testing split of the MNIST dataset\n",
        "\n",
        "load_mnist = False\n",
        "\n",
        "if load_mnist:\n",
        "    transform = transforms.Compose([\n",
        "        transforms.ToTensor(),\n",
        "        transforms.Normalize((0.1307,), (0.3081,))\n",
        "    ])\n",
        "\n",
        "    train_dataset = datasets.MNIST(\n",
        "        root=\"./data\",\n",
        "        train=True,\n",
        "        download=True,\n",
        "        transform=transform\n",
        "    )\n",
        "\n",
        "    test_dataset = datasets.MNIST(\n",
        "        root=\"./data\",\n",
        "        train=False,\n",
        "        download=True,\n",
        "        transform=transform\n",
        "    )\n",
        "\n",
        "    train_loader = DataLoader(train_dataset, batch_size=64, shuffle=True)\n",
        "    test_loader = DataLoader(test_dataset, batch_size=64, shuffle=False)\n",
        "else:\n",
        "    # Data transforms\n",
        "    transform_train = transforms.Compose([\n",
        "        transforms.RandomCrop(32, padding=4),\n",
        "        transforms.RandomHorizontalFlip(),\n",
        "        transforms.ToTensor(),\n",
        "        transforms.Normalize((0.4914, 0.4822, 0.4465), (0.2023, 0.1994, 0.2010))\n",
        "    ])\n",
        "\n",
        "    transform_test = transforms.Compose([\n",
        "        transforms.ToTensor(),\n",
        "        transforms.Normalize((0.4914, 0.4822, 0.4465), (0.2023, 0.1994, 0.2010))\n",
        "    ])\n",
        "\n",
        "    # Dataset and DataLoader\n",
        "    train_dataset = torchvision.datasets.CIFAR10(root='./data', train=True,\n",
        "                                                 download=True, transform=transform_train)\n",
        "    test_dataset = torchvision.datasets.CIFAR10(root='./data', train=False,\n",
        "                                                download=True, transform=transform_test)\n",
        "\n",
        "    train_loader = DataLoader(train_dataset, batch_size=384, shuffle=True, pin_memory=True)\n",
        "\n",
        "    # assume that 8 is what we would have in a real inference scenario\n",
        "    test_loader = DataLoader(test_dataset, batch_size=8, shuffle=False, pin_memory=True)\n",
        "\n",
        "\n"
      ],
      "metadata": {
        "id": "0Smfbu4RXuUd"
      },
      "execution_count": 5,
      "outputs": []
    },
    {
      "cell_type": "markdown",
      "source": [
        "## 4. Put Everything Together"
      ],
      "metadata": {
        "id": "Wzqkx8TTYDxQ"
      }
    },
    {
      "cell_type": "markdown",
      "source": [
        "Data collected using `torch.compile(mode=\"default\")` on a A100 system:\n",
        "\n",
        "Regular ResNet:\n",
        "- MNIST: Loss: 0.0178, Acc: 99.54%, Latency: 2.14ms, MACs: 457.7M\n",
        "- CIFAR: Loss: 0.4036, Acc: 87.25%, Latency: 1.97ms, MACs: 557.9M\n",
        "\n",
        "MobileNetV2:\n",
        "- MNIST: Loss: 0.0181, Acc: 99.54%, Latency: 2.86ms, MACs: 269.7M\n",
        "- CIFAR: Loss: 0.3543, Acc: 88.74%, Latency: 2.36ms, MACs: 337.2M\n",
        "\n",
        "Given that we are seing negliglbe latency difference with reducing MACs, there are two possible bottlenecks:\n",
        "- We are kernel launch bound. This is a very likely factor since we are performing computations on very small tensors and batch sizes. We might be able to solve this with `torch.compile(\"reduce-overhead\")` which will create CUDA graphs to launch kernels sequentially from the GPU instead of waiting for the CPU to issue new kernel launch operations.\n",
        "- We are memory bound. This is also a likely possibility since reducing MACs doesn't appear to affect latency, albiet less likely since kernel launch overhead is probably the biggest factor here. Given this limitation, we might want to come up with architectures that increase arithmetic intensity. ViTs would fit this requirement, but that would be cheating (we would be going with a completely different architecture). Another possibility is to increase the number of pointwise and fully connected convolutions, but the original ResNet does that already.\n",
        "\n",
        "When we utilize `reduce-overhead` (all data besides latency and MNIST omitted):\n",
        "\n",
        "Regular ResNet:\n",
        "- CIFAR: Latency: 0.71ms\n",
        "\n",
        "MobileNetV2:\n",
        "- CIFAR: Latency: 0.77ms\n",
        "\n",
        "That's surprising. Let's rerun on the the A100s provided by the AI makerspace, and let's take a look at the Nsys profiling report:![image.png](data:image/png;base64,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)\n",
        "\n",
        "As you can see, the graph takes way less time (in the order of ~350 us), but there is a massive gap where our GPU is doing nothing. This is because we are now data-loading bound, despite the fact we are pinning memory. In a real inference scenario, we would be screwed, as batches don't come in that fast. Let's increase batch size up to 128 and see what happens.\n",
        "\n",
        "ResNet:\n",
        "- Latency: 11.33ms\n",
        "- Latency: 86.50ms when Nsys collects data\n",
        "\n",
        "![image.png](data:image/png;base64,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)\n",
        "\n",
        "MobileNet:\n",
        "- Latency: 32.13ms\n",
        "- Latency: 100.25ms when Nsys collects data\n",
        "\n",
        "![image.png](data:image/png;base64,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)\n",
        "\n",
        "So according to this data, we can draw a few conclusions:\n",
        "- Even with a larger batch size, we are massively bound by data loading.\n",
        "- ResNet is actually faster than MobileNetV2. I think this is due to two factors:\n",
        "  - MobileNetV2 has a more complex structure and thus probably wont be as compatible with `torch.compile`\n",
        "  - MobileNetV2 also has more sequential operations. Namely, it has a very memory-bound depthwise kernel in between two pointwise kernels, and during that time the GPU is significantly underutilized."
      ],
      "metadata": {
        "id": "1xWwmJXh-G5b"
      }
    },
    {
      "cell_type": "code",
      "source": [
        "# TODO: finish the code here, you are required to:\n",
        "# 1. launch model training: recommended hyperparameter: batch size = 64, learning rate = 1.0, adam optimizer\n",
        "# 2. visualize the training loss curve using matplotlib or any other libraries\n",
        "\n",
        "latency_test_only = True\n",
        "\n",
        "device = torch.device(\"cuda\")\n",
        "\n",
        "model = ResNet18()\n",
        "model.to(device)\n",
        "\n",
        "\n",
        "if not latency_test_only:\n",
        "    optimizer = optim.Adam(model.parameters(), lr = 0.001)\n",
        "    scheduler = optim.lr_scheduler.StepLR(optimizer, step_size=1, gamma=0.8)\n",
        "\n",
        "    losses = train(model, device, train_loader, optimizer, scheduler, 16)\n",
        "\n",
        "    steps = [i * 100 for i in range(len(losses))]\n",
        "\n",
        "    plt.figure(figsize=(8, 5))\n",
        "    plt.plot(steps, losses, marker='o', label=\"Training Loss\")\n",
        "\n",
        "    plt.xlabel(\"Training Steps\")\n",
        "    plt.ylabel(\"Loss\")\n",
        "    plt.title(\"Training Loss Curve\")\n",
        "    plt.legend()\n",
        "    plt.grid(True)\n",
        "    plt.show()\n",
        "\n",
        "# run test\n",
        "test(model, device, test_loader)"
      ],
      "metadata": {
        "id": "WHr46bWLYHy4",
        "colab": {
          "base_uri": "https://localhost:8080/"
        },
        "outputId": "f0d89739-3932-4b31-8de2-f26f99a41357"
      },
      "execution_count": 6,
      "outputs": [
        {
          "output_type": "stream",
          "name": "stdout",
          "text": [
            "Warming up for torch.compile()...\n",
            "[INFO] Register count_convNd() for <class 'torch.nn.modules.conv.Conv2d'>.\n",
            "[INFO] Register count_normalization() for <class 'torch.nn.modules.batchnorm.BatchNorm2d'>.\n",
            "[INFO] Register zero_ops() for <class 'torch.nn.modules.container.Sequential'>.\n",
            "[INFO] Register count_linear() for <class 'torch.nn.modules.linear.Linear'>.\n"
          ]
        },
        {
          "output_type": "stream",
          "name": "stderr",
          "text": [
            "skipping cudagraphs due to skipping cudagraphs due to cpu device (arg2_1). Found from : \n",
            "   File \"/tmp/ipython-input-1519489046.py\", line 109, in forward\n",
            "    out = F.relu(self.bn1(self.conv1(x)))\n",
            "  File \"/usr/local/lib/python3.12/dist-packages/thop/vision/basic_hooks.py\", line 28, in count_convNd\n",
            "    m.total_ops += calculate_conv2d_flops(\n",
            "\n"
          ]
        },
        {
          "output_type": "stream",
          "name": "stdout",
          "text": [
            "Loss: 2.3026, Acc: 10.00%, Latency: 0.71ms, MACs: 557.9M\n"
          ]
        }
      ]
    }
  ]
}